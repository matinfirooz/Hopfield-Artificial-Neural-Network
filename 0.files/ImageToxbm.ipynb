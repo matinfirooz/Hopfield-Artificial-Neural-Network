{
  "nbformat": 4,
  "nbformat_minor": 0,
  "metadata": {
    "colab": {
      "provenance": []
    },
    "kernelspec": {
      "name": "python3",
      "display_name": "Python 3"
    },
    "language_info": {
      "name": "python"
    }
  },
  "cells": [
    {
      "cell_type": "markdown",
      "source": [
        "# **Convert JPG images to .xbm File:**"
      ],
      "metadata": {
        "id": "9v88iRy55-sB"
      }
    },
    {
      "cell_type": "code",
      "execution_count": 2,
      "metadata": {
        "id": "VruhDfFL0eIi",
        "colab": {
          "base_uri": "https://localhost:8080/"
        },
        "outputId": "b1baed61-ac30-4418-d3d2-b6f4e0785987"
      },
      "outputs": [
        {
          "output_type": "stream",
          "name": "stdout",
          "text": [
            "Converted 2.jpg to 2.xbm successfully.\n",
            "Converted 4.jpg to 4.xbm successfully.\n",
            "Converted 5.jpg to 5.xbm successfully.\n",
            "Converted 6.jpg to 6.xbm successfully.\n",
            "Converted 9.jpg to 9.xbm successfully.\n",
            "Converted 8.jpg to 8.xbm successfully.\n",
            "Converted 7.jpg to 7.xbm successfully.\n",
            "Converted 3.jpg to 3.xbm successfully.\n",
            "Converted 1.jpg to 1.xbm successfully.\n",
            "Converted 10.jpg to 10.xbm successfully.\n"
          ]
        }
      ],
      "source": [
        "from PIL import Image\n",
        "import os\n",
        "\n",
        "# Path to the directory containing JPEG images\n",
        "jpeg_dir = '/content/drive/MyDrive/BioInspired/HW2/ImageDataSet'\n",
        "bitmap_dir = '/content/drive/MyDrive/BioInspired/HW2/ImageToxbm'\n",
        "\n",
        "# Create directory for bitmaps if it doesn't exist\n",
        "os.makedirs(bitmap_dir, exist_ok=True)\n",
        "\n",
        "# List all JPEG files in the directory\n",
        "jpeg_files = [f for f in os.listdir(jpeg_dir) if f.endswith('.jpg')]\n",
        "\n",
        "# Convert each JPEG image to XBM format\n",
        "for jpeg_file in jpeg_files:\n",
        "    jpeg_path = os.path.join(jpeg_dir, jpeg_file)\n",
        "    bitmap_file = jpeg_file.replace('.jpg', '.xbm')\n",
        "    bitmap_path = os.path.join(bitmap_dir, bitmap_file)\n",
        "\n",
        "    try:\n",
        "        # Open the JPEG image\n",
        "        with Image.open(jpeg_path) as img:\n",
        "            # Convert to grayscale and resize to 8x8 (or any desired size)\n",
        "            img = img.convert('1').resize((8, 8))\n",
        "            # Save as XBM\n",
        "            img.save(bitmap_path)\n",
        "            print(f\"Converted {jpeg_file} to {bitmap_file} successfully.\")\n",
        "    except Exception as e:\n",
        "        print(f\"Failed to convert {jpeg_file}: {e}\")\n"
      ]
    }
  ]
}