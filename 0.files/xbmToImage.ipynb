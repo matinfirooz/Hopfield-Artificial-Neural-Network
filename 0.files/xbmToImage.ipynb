{
  "nbformat": 4,
  "nbformat_minor": 0,
  "metadata": {
    "colab": {
      "provenance": []
    },
    "kernelspec": {
      "name": "python3",
      "display_name": "Python 3"
    },
    "language_info": {
      "name": "python"
    }
  },
  "cells": [
    {
      "cell_type": "markdown",
      "source": [
        "# **Convert .xbm File to PNG images:**"
      ],
      "metadata": {
        "id": "tqr-Mdb9jdqP"
      }
    },
    {
      "cell_type": "code",
      "execution_count": 2,
      "metadata": {
        "colab": {
          "base_uri": "https://localhost:8080/"
        },
        "id": "R32Ovi-GZHme",
        "outputId": "68cd596b-232a-4173-ac9a-a92c60656073"
      },
      "outputs": [
        {
          "output_type": "stream",
          "name": "stdout",
          "text": [
            "Converted noisy_10_5.xbm to noisy_10_5.png\n",
            "Converted noisy_3_2.xbm to noisy_3_2.png\n",
            "Converted noisy_6_4.xbm to noisy_6_4.png\n",
            "Converted noisy_1_6.xbm to noisy_1_6.png\n",
            "Converted noisy_8_6.xbm to noisy_8_6.png\n",
            "Converted noisy_7_3.xbm to noisy_7_3.png\n",
            "Converted noisy_2_2.xbm to noisy_2_2.png\n",
            "Converted noisy_6_6.xbm to noisy_6_6.png\n",
            "Converted noisy_8_5.xbm to noisy_8_5.png\n",
            "Converted noisy_1_4.xbm to noisy_1_4.png\n",
            "Converted noisy_3_6.xbm to noisy_3_6.png\n",
            "Converted noisy_5_4.xbm to noisy_5_4.png\n",
            "Converted noisy_7_1.xbm to noisy_7_1.png\n",
            "Converted noisy_8_8.xbm to noisy_8_8.png\n",
            "Converted noisy_3_4.xbm to noisy_3_4.png\n",
            "Converted noisy_7_4.xbm to noisy_7_4.png\n",
            "Converted noisy_5_2.xbm to noisy_5_2.png\n",
            "Converted noisy_6_5.xbm to noisy_6_5.png\n",
            "Converted noisy_6_2.xbm to noisy_6_2.png\n",
            "Converted noisy_1_7.xbm to noisy_1_7.png\n",
            "Converted noisy_3_5.xbm to noisy_3_5.png\n",
            "Converted noisy_9_6.xbm to noisy_9_6.png\n",
            "Converted noisy_4_2.xbm to noisy_4_2.png\n",
            "Converted noisy_9_7.xbm to noisy_9_7.png\n",
            "Converted noisy_4_3.xbm to noisy_4_3.png\n",
            "Converted noisy_10_1.xbm to noisy_10_1.png\n",
            "Converted noisy_3_1.xbm to noisy_3_1.png\n",
            "Converted noisy_7_6.xbm to noisy_7_6.png\n",
            "Converted noisy_1_1.xbm to noisy_1_1.png\n",
            "Converted noisy_9_5.xbm to noisy_9_5.png\n",
            "Converted noisy_7_8.xbm to noisy_7_8.png\n",
            "Converted noisy_2_7.xbm to noisy_2_7.png\n",
            "Converted noisy_8_2.xbm to noisy_8_2.png\n",
            "Converted noisy_7_7.xbm to noisy_7_7.png\n",
            "Converted noisy_10_8.xbm to noisy_10_8.png\n",
            "Converted noisy_7_5.xbm to noisy_7_5.png\n",
            "Converted noisy_9_1.xbm to noisy_9_1.png\n",
            "Converted noisy_10_4.xbm to noisy_10_4.png\n",
            "Converted noisy_2_8.xbm to noisy_2_8.png\n",
            "Converted noisy_1_2.xbm to noisy_1_2.png\n",
            "Converted noisy_5_1.xbm to noisy_5_1.png\n",
            "Converted noisy_9_8.xbm to noisy_9_8.png\n",
            "Converted noisy_5_6.xbm to noisy_5_6.png\n",
            "Converted noisy_8_4.xbm to noisy_8_4.png\n",
            "Converted noisy_4_7.xbm to noisy_4_7.png\n",
            "Converted noisy_7_2.xbm to noisy_7_2.png\n",
            "Converted noisy_8_7.xbm to noisy_8_7.png\n",
            "Converted noisy_4_6.xbm to noisy_4_6.png\n",
            "Converted noisy_1_3.xbm to noisy_1_3.png\n",
            "Converted noisy_3_7.xbm to noisy_3_7.png\n",
            "Converted noisy_4_4.xbm to noisy_4_4.png\n",
            "Converted noisy_3_8.xbm to noisy_3_8.png\n",
            "Converted noisy_10_3.xbm to noisy_10_3.png\n",
            "Converted noisy_1_8.xbm to noisy_1_8.png\n",
            "Converted noisy_4_5.xbm to noisy_4_5.png\n",
            "Converted noisy_3_3.xbm to noisy_3_3.png\n",
            "Converted noisy_2_6.xbm to noisy_2_6.png\n",
            "Converted noisy_5_3.xbm to noisy_5_3.png\n",
            "Converted noisy_6_8.xbm to noisy_6_8.png\n",
            "Converted noisy_10_2.xbm to noisy_10_2.png\n",
            "Converted noisy_10_7.xbm to noisy_10_7.png\n",
            "Converted noisy_9_4.xbm to noisy_9_4.png\n",
            "Converted noisy_8_3.xbm to noisy_8_3.png\n",
            "Converted noisy_2_3.xbm to noisy_2_3.png\n",
            "Converted noisy_9_2.xbm to noisy_9_2.png\n",
            "Converted noisy_5_5.xbm to noisy_5_5.png\n",
            "Converted noisy_6_7.xbm to noisy_6_7.png\n",
            "Converted noisy_10_6.xbm to noisy_10_6.png\n",
            "Converted noisy_2_1.xbm to noisy_2_1.png\n",
            "Converted noisy_5_8.xbm to noisy_5_8.png\n",
            "Converted noisy_1_5.xbm to noisy_1_5.png\n",
            "Converted noisy_2_4.xbm to noisy_2_4.png\n",
            "Converted noisy_4_1.xbm to noisy_4_1.png\n",
            "Converted noisy_8_1.xbm to noisy_8_1.png\n",
            "Converted noisy_5_7.xbm to noisy_5_7.png\n",
            "Converted noisy_4_8.xbm to noisy_4_8.png\n",
            "Converted noisy_6_1.xbm to noisy_6_1.png\n",
            "Converted noisy_6_3.xbm to noisy_6_3.png\n",
            "Converted noisy_2_5.xbm to noisy_2_5.png\n",
            "Converted noisy_9_3.xbm to noisy_9_3.png\n",
            "Conversion complete.\n"
          ]
        }
      ],
      "source": [
        "import os\n",
        "from PIL import Image\n",
        "\n",
        "# Define the directory containing the XBM files\n",
        "input_directory = '/content/drive/MyDrive/BioInspired/HW2/NoisyxbmFiles'\n",
        "output_directory = '/content/drive/MyDrive/BioInspired/HW2/Part4FinalOutput'\n",
        "\n",
        "# Ensure the output directory exists\n",
        "os.makedirs(output_directory, exist_ok=True)\n",
        "\n",
        "# Loop through all files in the input directory\n",
        "for filename in os.listdir(input_directory):\n",
        "    if filename.endswith('.xbm'):\n",
        "        # Construct the full path to the input file\n",
        "        input_path = os.path.join(input_directory, filename)\n",
        "\n",
        "        # Open the XBM file\n",
        "        with Image.open(input_path) as img:\n",
        "            # Construct the full path to the output file\n",
        "            output_path = os.path.join(output_directory, os.path.splitext(filename)[0] + '.png')\n",
        "\n",
        "            # Save the image as PNG\n",
        "            img.save(output_path, 'PNG')\n",
        "\n",
        "        print(f\"Converted {filename} to {os.path.splitext(filename)[0]}.png\")\n",
        "\n",
        "print(\"Conversion complete.\")\n"
      ]
    }
  ]
}